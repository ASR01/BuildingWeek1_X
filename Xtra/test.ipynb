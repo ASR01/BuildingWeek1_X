{
 "cells": [
  {
   "cell_type": "code",
   "execution_count": 2,
   "source": [
    "import google_auth_oauthlib.flow\r\n",
    "import googleapiclient.discovery\r\n",
    "import googleapiclient.errors\r\n",
    "\r\n",
    "from googleapiclient.http import MediaIoBaseDownload\r\n",
    "\r\n",
    "scopes = [\"https://www.googleapis.com/auth/youtube.force-ssl\"]\r\n",
    "\r\n",
    "def main():\r\n",
    "    # Disable OAuthlib's HTTPS verification when running locally.\r\n",
    "    # *DO NOT* leave this option enabled in production.\r\n",
    "    os.environ[\"OAUTHLIB_INSECURE_TRANSPORT\"] = \"1\"\r\n",
    "\r\n",
    "    api_service_name = \"youtube\"\r\n",
    "    api_version = \"v3\"\r\n",
    "    client_secrets_file = \"keys.json\"\r\n",
    "\r\n",
    "    # Get credentials and create an API client\r\n",
    "    flow = google_auth_oauthlib.flow.InstalledAppFlow.from_client_secrets_file(\r\n",
    "        client_secrets_file, scopes)\r\n",
    "    credentials = flow.run_console()\r\n",
    "    youtube = googleapiclient.discovery.build(\r\n",
    "        api_service_name, api_version, credentials=credentials)\r\n",
    "\r\n",
    "    request = youtube.captions().download(\r\n",
    "        id=\"8yMV7mc691ajCze115cxb5goeKsI0BJn\"\r\n",
    "    )\r\n",
    "    # TODO: For this request to work, you must replace \"YOUR_FILE\"\r\n",
    "    #       with the location where the downloaded content should be written.\r\n",
    "    fh = io.FileIO(\"export.txt\", \"wb\")\r\n",
    "\r\n",
    "    download = MediaIoBaseDownload(fh, request)\r\n",
    "    complete = False\r\n",
    "    while not complete:\r\n",
    "      status, complete = download.next_chunk()\r\n",
    "\r\n",
    "\r\n",
    "\r\n",
    "main()"
   ],
   "outputs": [
    {
     "output_type": "error",
     "ename": "ValueError",
     "evalue": "Client secrets must be for a web or installed app.",
     "traceback": [
      "\u001b[1;31m---------------------------------------------------------------------------\u001b[0m",
      "\u001b[1;31mValueError\u001b[0m                                Traceback (most recent call last)",
      "\u001b[1;32m<ipython-input-2-299bc52ec5dc>\u001b[0m in \u001b[0;36m<module>\u001b[1;34m\u001b[0m\n\u001b[0;32m     37\u001b[0m \u001b[1;33m\u001b[0m\u001b[0m\n\u001b[0;32m     38\u001b[0m \u001b[1;33m\u001b[0m\u001b[0m\n\u001b[1;32m---> 39\u001b[1;33m \u001b[0mmain\u001b[0m\u001b[1;33m(\u001b[0m\u001b[1;33m)\u001b[0m\u001b[1;33m\u001b[0m\u001b[1;33m\u001b[0m\u001b[0m\n\u001b[0m",
      "\u001b[1;32m<ipython-input-2-299bc52ec5dc>\u001b[0m in \u001b[0;36mmain\u001b[1;34m()\u001b[0m\n\u001b[0;32m     17\u001b[0m \u001b[1;33m\u001b[0m\u001b[0m\n\u001b[0;32m     18\u001b[0m     \u001b[1;31m# Get credentials and create an API client\u001b[0m\u001b[1;33m\u001b[0m\u001b[1;33m\u001b[0m\u001b[1;33m\u001b[0m\u001b[0m\n\u001b[1;32m---> 19\u001b[1;33m     flow = google_auth_oauthlib.flow.InstalledAppFlow.from_client_secrets_file(\n\u001b[0m\u001b[0;32m     20\u001b[0m         client_secrets_file, scopes)\n\u001b[0;32m     21\u001b[0m     \u001b[0mcredentials\u001b[0m \u001b[1;33m=\u001b[0m \u001b[0mflow\u001b[0m\u001b[1;33m.\u001b[0m\u001b[0mrun_console\u001b[0m\u001b[1;33m(\u001b[0m\u001b[1;33m)\u001b[0m\u001b[1;33m\u001b[0m\u001b[1;33m\u001b[0m\u001b[0m\n",
      "\u001b[1;32m~\\anaconda3\\envs\\TelegramBot\\lib\\site-packages\\google_auth_oauthlib\\flow.py\u001b[0m in \u001b[0;36mfrom_client_secrets_file\u001b[1;34m(cls, client_secrets_file, scopes, **kwargs)\u001b[0m\n\u001b[0;32m    204\u001b[0m             \u001b[0mclient_config\u001b[0m \u001b[1;33m=\u001b[0m \u001b[0mjson\u001b[0m\u001b[1;33m.\u001b[0m\u001b[0mload\u001b[0m\u001b[1;33m(\u001b[0m\u001b[0mjson_file\u001b[0m\u001b[1;33m)\u001b[0m\u001b[1;33m\u001b[0m\u001b[1;33m\u001b[0m\u001b[0m\n\u001b[0;32m    205\u001b[0m \u001b[1;33m\u001b[0m\u001b[0m\n\u001b[1;32m--> 206\u001b[1;33m         \u001b[1;32mreturn\u001b[0m \u001b[0mcls\u001b[0m\u001b[1;33m.\u001b[0m\u001b[0mfrom_client_config\u001b[0m\u001b[1;33m(\u001b[0m\u001b[0mclient_config\u001b[0m\u001b[1;33m,\u001b[0m \u001b[0mscopes\u001b[0m\u001b[1;33m=\u001b[0m\u001b[0mscopes\u001b[0m\u001b[1;33m,\u001b[0m \u001b[1;33m**\u001b[0m\u001b[0mkwargs\u001b[0m\u001b[1;33m)\u001b[0m\u001b[1;33m\u001b[0m\u001b[1;33m\u001b[0m\u001b[0m\n\u001b[0m\u001b[0;32m    207\u001b[0m \u001b[1;33m\u001b[0m\u001b[0m\n\u001b[0;32m    208\u001b[0m     \u001b[1;33m@\u001b[0m\u001b[0mproperty\u001b[0m\u001b[1;33m\u001b[0m\u001b[1;33m\u001b[0m\u001b[0m\n",
      "\u001b[1;32m~\\anaconda3\\envs\\TelegramBot\\lib\\site-packages\\google_auth_oauthlib\\flow.py\u001b[0m in \u001b[0;36mfrom_client_config\u001b[1;34m(cls, client_config, scopes, **kwargs)\u001b[0m\n\u001b[0;32m    162\u001b[0m             \u001b[0mclient_type\u001b[0m \u001b[1;33m=\u001b[0m \u001b[1;34m\"installed\"\u001b[0m\u001b[1;33m\u001b[0m\u001b[1;33m\u001b[0m\u001b[0m\n\u001b[0;32m    163\u001b[0m         \u001b[1;32melse\u001b[0m\u001b[1;33m:\u001b[0m\u001b[1;33m\u001b[0m\u001b[1;33m\u001b[0m\u001b[0m\n\u001b[1;32m--> 164\u001b[1;33m             \u001b[1;32mraise\u001b[0m \u001b[0mValueError\u001b[0m\u001b[1;33m(\u001b[0m\u001b[1;34m\"Client secrets must be for a web or installed app.\"\u001b[0m\u001b[1;33m)\u001b[0m\u001b[1;33m\u001b[0m\u001b[1;33m\u001b[0m\u001b[0m\n\u001b[0m\u001b[0;32m    165\u001b[0m \u001b[1;33m\u001b[0m\u001b[0m\n\u001b[0;32m    166\u001b[0m         \u001b[1;31m# these args cannot be passed to requests_oauthlib.OAuth2Session\u001b[0m\u001b[1;33m\u001b[0m\u001b[1;33m\u001b[0m\u001b[1;33m\u001b[0m\u001b[0m\n",
      "\u001b[1;31mValueError\u001b[0m: Client secrets must be for a web or installed app."
     ]
    }
   ],
   "metadata": {}
  }
 ],
 "metadata": {
  "orig_nbformat": 4,
  "language_info": {
   "name": "python",
   "version": "3.8.11",
   "mimetype": "text/x-python",
   "codemirror_mode": {
    "name": "ipython",
    "version": 3
   },
   "pygments_lexer": "ipython3",
   "nbconvert_exporter": "python",
   "file_extension": ".py"
  },
  "kernelspec": {
   "name": "python3",
   "display_name": "Python 3.8.11 64-bit ('TelegramBot': conda)"
  },
  "interpreter": {
   "hash": "db33ab3f3bc299f30aebfb213b62ab54493bd533dc76b95a988c3f0480fd0b4e"
  }
 },
 "nbformat": 4,
 "nbformat_minor": 2
}